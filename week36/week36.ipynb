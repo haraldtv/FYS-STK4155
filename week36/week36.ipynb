{
 "cells": [
  {
   "cell_type": "markdown",
   "metadata": {},
   "source": [
    "# Exercises week 36"
   ]
  },
  {
   "cell_type": "markdown",
   "metadata": {},
   "source": [
    "### Exercise 2"
   ]
  },
  {
   "cell_type": "code",
   "execution_count": 2,
   "metadata": {},
   "outputs": [],
   "source": [
    "import numpy as np\n",
    "import matplotlib.pyplot as plt\n",
    "from sklearn.preprocessing import StandardScaler\n",
    "from sklearn.model_selection import train_test_split\n",
    "from sklearn.linear_model import LinearRegression\n",
    "from sklearn.linear_model import Ridge\n",
    "from sklearn.preprocessing import PolynomialFeatures\n",
    "from sklearn.pipeline import make_pipeline\n",
    "from sklearn.metrics import mean_squared_error\n",
    "from sklearn.metrics import r2_score"
   ]
  },
  {
   "cell_type": "code",
   "execution_count": 7,
   "metadata": {},
   "outputs": [
    {
     "data": {
      "text/plain": [
       "[<matplotlib.lines.Line2D at 0x169b760d0>]"
      ]
     },
     "execution_count": 7,
     "metadata": {},
     "output_type": "execute_result"
    },
    {
     "data": {
      "image/png": "[encoded data removed]",
      "text/plain": [
       "<Figure size 640x480 with 1 Axes>"
      ]
     },
     "metadata": {},
     "output_type": "display_data"
    }
   ],
   "source": [
    "np.random.seed()\n",
    "n = 100\n",
    "# Make data set.\n",
    "x = np.linspace(-3, 3, n).reshape(-1, 1)\n",
    "y = np.exp(-x**2) + 1.5 * np.exp(-(x-2)**2)+ np.random.normal(0, 0.1, x.shape)\n",
    "\n",
    "def prep(x, y, degree):\n",
    "    x_train, x_test, y_train, y_test = train_test_split(x, y, test_size=0.25)\n",
    "\n",
    "    X_train = np.fliplr(np.vander(x_train.flatten(), degree+1))\n",
    "    X_test = np.fliplr(np.vander(x_test.flatten(), degree+1))\n",
    "    \n",
    "    X_train = np.delete(X_train, 0, 1)\n",
    "    X_test = np.delete(X_test, 0, 1)\n",
    "\n",
    "    scaler = StandardScaler(with_std=False)\n",
    "    scaler.fit(X_train)\n",
    "    X_train = scaler.transform(X_train)\n",
    "    X_test = scaler.transform(X_test)\n",
    "\n",
    "    return X_train, X_test, y_train, y_test\n",
    "\n",
    "def OLS(X, y, degree):\n",
    "    beta = np.linalg.inv(X.T@X)@X.T@y\n",
    "    return X, beta\n",
    "\n",
    "def RIDGE(X, y, l, degree):\n",
    "    beta = np.linalg.inv(X.T@X+l*np.identity(len(X[0])))@X.T@y\n",
    "    return X, beta\n",
    "\n",
    "def reg(x,y,degree, lambd):\n",
    "    x_train, x_test, y_train, y_test = prep(x,y,degree)\n",
    "    mse_ols = []\n",
    "    r2_ols = []\n",
    "    mse_ridge = []\n",
    "    r2_ridge = []\n",
    "\n",
    "    X_ols, beta_ols = OLS(x_train, y_train, degree)\n",
    "    y_fit_ols = x_train@beta_ols\n",
    "    y_pred_ols = x_test@beta_ols\n",
    "    mse_ols.append((mean_squared_error(y_train, y_fit_ols), mean_squared_error(y_test, y_pred_ols)))\n",
    "    r2_ols.append((r2_score(y_train, y_fit_ols), r2_score(y_test, y_pred_ols)))\n",
    "\n",
    "    for a in lambd:\n",
    "        X_ridge, beta_ridge = RIDGE(x_train,y_train,a,degree)\n",
    "    \n",
    "        y_fit_ridge = x_train@beta_ridge\n",
    "        y_pred_ridge = x_test@beta_ridge\n",
    "        \n",
    "        mse_ridge.append((mean_squared_error(y_train, y_fit_ridge), mean_squared_error(y_test, y_pred_ridge)))\n",
    "        r2_ridge.append((r2_score(y_train, y_fit_ridge), r2_score(y_test, y_pred_ridge)))\n",
    "    return (mse_ols, r2_ols, mse_ridge, r2_ridge)\n",
    "\n",
    "lambdas = [0.0001, 0.001, 0.01, 0.1, 1]\n",
    "deg10_mse_ols, deg10_r2_ols, deg10_mse_ridge, deg10_r2_ols = reg(x,y,10,lambdas)\n",
    "deg15_mse_ols, deg15_r2_ols, deg15_mse_ridge, deg15_r2_ols = reg(x,y,15,lambdas)\n",
    "\n",
    "# print(deg10_mse)\n",
    "# print(deg15_mse)\n",
    "\n",
    "\n",
    "\n",
    "y_plot1 = []\n",
    "y_plot2 = []\n",
    "for mse in deg10_mse_ridge:\n",
    "    y_plot1.append(mse[0])\n",
    "    y_plot2.append(mse[1])\n",
    "plt.plot(lambdas, y_plot1, \"x\", color=\"blue\", label=\"Training\")\n",
    "plt.plot(lambdas, y_plot2, \"x\", color=\"orange\", label=\"Test\")\n"
   ]
  },
  {
   "cell_type": "code",
   "execution_count": null,
   "metadata": {},
   "outputs": [],
   "source": []
  }
 ],
 "metadata": {
  "kernelspec": {
   "display_name": "base",
   "language": "python",
   "name": "python3"
  },
  "language_info": {
   "codemirror_mode": {
    "name": "ipython",
    "version": 3
   },
   "file_extension": ".py",
   "mimetype": "text/x-python",
   "name": "python",
   "nbconvert_exporter": "python",
   "pygments_lexer": "ipython3",
   "version": "3.11.4"
  }
 },
 "nbformat": 4,
 "nbformat_minor": 2
}
