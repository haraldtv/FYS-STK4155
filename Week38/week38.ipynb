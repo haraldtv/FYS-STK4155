{
 "cells": [
  {
   "cell_type": "markdown",
   "metadata": {},
   "source": [
    "# Week 38\n",
    "\n",
    "\n",
    "\n"
   ]
  },
  {
   "cell_type": "markdown",
   "metadata": {},
   "source": [
    "The lab session in week 37 was used for inspiration in the analytical part: https://www.youtube.com/watch?v=bK4AEcTu-oM\n",
    "\n",
    "\n",
    "$$\n",
    "    \\mathbb{E}[(y-\\tilde{y})^2] = \\mathbb{E}[y^2-2y\\tilde{y} + \\tilde{y}^2]\n",
    "$$\n",
    "If we start with $\\mathbb{E}[y^2]$:\n",
    "$$\n",
    "    \\mathbb{E}[y^2] = \\mathbb{E}[(f+\\epsilon)^2] = \\mathbb{E}[f^2] + 2f\\mathbb{E}[\\epsilon] + \\mathbb{E}[\\epsilon^2]\n",
    "$$\n",
    "Where $\\mathbb{E}[\\epsilon] = 0$ and $\\mathbb{E}[\\epsilon^2] = \\sigma^2$, gives:\n",
    "$$\n",
    "    \\mathbb{E}[y^2] = \\mathbb{E}[f^2] + \\sigma^2\n",
    "$$\n",
    "We then take $\\mathbb{E}[2y\\tilde{y}]$\n",
    "$$\n",
    "    \\mathbb{E}[2y\\tilde{y}] = 2\\mathbb{E}[(f+\\epsilon)\\tilde{y}] = 2\\mathbb{E}[f\\tilde{y} + \\epsilon\\tilde{y}] = 2\\mathbb{E}[f\\tilde{y}] + 2\\mathbb{E}[\\epsilon\\tilde{y}]\n",
    "$$\n",
    "where $\\mathbb{E}[\\epsilon\\tilde{y}] = 0$\n",
    "$$\n",
    "    \\mathbb{E}[2y\\tilde{y}] = 2f\\mathbb{E}[\\tilde{y}]\n",
    "$$\n",
    "Finally we take $\\mathbb{E}[\\tilde{y}^2]$. Knowing $var(\\tilde{y}) = \\mathbb{E}[\\tilde{y}^2] - \\mathbb{E}[\\tilde{y}]^2$, we get $\\mathbb{E}[\\tilde{y}^2] = var(\\tilde{y}) + \\mathbb{E}[\\tilde{y}]^2$.\n",
    "\n",
    "Now we can gather up the separate parts:\n",
    "$$\n",
    "    \\begin{split}\n",
    "        \\mathbb{E}[(y-\\tilde{y})^2] = \\mathbb{E}[f^2] + \\sigma^2 - 2f\\mathbb{E}[\\tilde{y}] + var(\\tilde{y})  - \\mathbb{E}[\\tilde{y}]^2 \\\\\n",
    "        = \\mathbb{E}[f^2] - 2f\\mathbb{E}[\\tilde{y}] + \\mathbb{E}[\\tilde{y}]^2 + var(\\tilde{y}) + \\sigma^2\\\\\n",
    "        = \\mathbb{E}[(f - \\tilde{y})^2] + var(\\tilde{y}) + \\sigma^2\n",
    "    \\end{split}\n",
    "$$\n",
    "Using the definition $bias(\\tilde{y}) = \\mathbb{E}[(y - \\tilde{y})^2]$, we can make the approximation $f \\approxeq y$, we get:\n",
    "$$\n",
    "    \\mathbb{E}[(y-\\tilde{y})^2] = bias(\\tilde{y}) + var(\\tilde{y}) + \\sigma^2\n",
    "$$"
   ]
  },
  {
   "cell_type": "markdown",
   "metadata": {},
   "source": [
    "The bias refers to how much the modell is \"off\" the correct ouput (the actual function), and the variance refers to how spread out the predictions of the model is for a specific output."
   ]
  },
  {
   "cell_type": "markdown",
   "metadata": {},
   "source": [
    "---"
   ]
  },
  {
   "cell_type": "markdown",
   "metadata": {},
   "source": [
    "The bias-variance tradeoff script in the lecture notes section 5.4 was heavily used for inspiration in the python script: https://compphysics.github.io/MachineLearning/doc/LectureNotes/_build/html/chapter3.html#the-bias-variance-tradeoff"
   ]
  },
  {
   "cell_type": "code",
   "execution_count": 49,
   "metadata": {},
   "outputs": [
    {
     "data": {
      "image/png": "[encoded data removed]",
      "text/plain": [
       "<Figure size 640x480 with 1 Axes>"
      ]
     },
     "metadata": {},
     "output_type": "display_data"
    }
   ],
   "source": [
    "import matplotlib.pyplot as plt\n",
    "import numpy as np\n",
    "from sklearn.linear_model import LinearRegression, Ridge, Lasso\n",
    "from sklearn.preprocessing import PolynomialFeatures\n",
    "from sklearn.model_selection import train_test_split\n",
    "from sklearn.pipeline import make_pipeline\n",
    "from sklearn.utils import resample\n",
    "\n",
    "np.random.seed(0)\n",
    "\n",
    "n = 50\n",
    "\n",
    "x = np.linspace(-2,3,50).reshape(-1, 1) \n",
    "y = x**3+5*x-10 + np.random.normal(0,0.1, x.shape)*15\n",
    "\n",
    "todeg = 15\n",
    "\n",
    "bootstraplim = 50\n",
    "\n",
    "bias_list = []\n",
    "var_list = []\n",
    "\n",
    "x_train, x_test, y_train, y_test = train_test_split(x,y, test_size=0.2)\n",
    "\n",
    "for deg in range(todeg):\n",
    "\n",
    "    model = make_pipeline(PolynomialFeatures(degree=deg), LinearRegression(fit_intercept=False))\n",
    "    y_pred = np.empty((y_test.shape[0], bootstraplim))\n",
    "\n",
    "    for i in range(bootstraplim):\n",
    "        x_temp, y_temp = resample(x_train, y_train)\n",
    "        y_pred[:, i] = (model.fit(x_temp,y_temp).predict(x_test).ravel())\n",
    "\n",
    "\n",
    "    variance = np.mean( np.var(y_pred, axis=1, keepdims=True) )\n",
    "    bias = np.mean( (y_test - np.mean(y_pred, axis=1, keepdims=True))**2)\n",
    "\n",
    "    bias_list.append(bias)\n",
    "    var_list.append(variance)\n",
    "\n",
    "# plt.plot(x, y, \"bo\")\n",
    "# plt.plot(x_test, y_pred, \"rx\")\n",
    "\n",
    "fig, ax = plt.subplots()\n",
    "\n",
    "\n",
    "ax.plot(bias_list, \"b-\", label=\"Bias\")\n",
    "ax.plot(var_list, \"g-\", label=\"variance\")\n",
    "\n",
    "fig.legend()\n",
    "\n",
    "plt.show()\n"
   ]
  },
  {
   "cell_type": "markdown",
   "metadata": {},
   "source": [
    "Here the error and variance is plotted from degree 0 to 15. From the plot we see bias decreasing over higher degrees, and variance increasing over higher degrees. Selecting one of the models between degree 1 and 9 seems to yield the best result in this scenario. Increasing the bootstrap increases the variance."
   ]
  },
  {
   "cell_type": "markdown",
   "metadata": {},
   "source": []
  }
 ],
 "metadata": {
  "kernelspec": {
   "display_name": "base",
   "language": "python",
   "name": "python3"
  },
  "language_info": {
   "codemirror_mode": {
    "name": "ipython",
    "version": 3
   },
   "file_extension": ".py",
   "mimetype": "text/x-python",
   "name": "python",
   "nbconvert_exporter": "python",
   "pygments_lexer": "ipython3",
   "version": "3.11.0"
  }
 },
 "nbformat": 4,
 "nbformat_minor": 2
}
